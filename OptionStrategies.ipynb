{
 "cells": [
  {
   "cell_type": "code",
   "execution_count": 1,
   "metadata": {
    "collapsed": true
   },
   "outputs": [],
   "source": [
    "from __future__ import print_function\n",
    "from ipywidgets import interact, interactive, fixed, interact_manual\n",
    "import ipywidgets as widgets\n",
    "from IPython.display import display\n",
    "import numpy as np\n",
    "import pandas as pd\n",
    "from scipy.stats import norm\n",
    "import matplotlib.pyplot as plt\n",
    "%matplotlib inline"
   ]
  },
  {
   "cell_type": "code",
   "execution_count": 2,
   "metadata": {
    "collapsed": true
   },
   "outputs": [],
   "source": [
    "def N(x):\n",
    "    return norm.cdf(x, loc=0, scale=1)\n",
    "def Np(x):\n",
    "    return norm.pdf(x, loc=0, scale=1)\n",
    "\n",
    "def d1(S, K, r, s, T):\n",
    "    return (np.log(S/K) + (r + s ** 2 / 2) * T) / (s * np.sqrt(T))\n",
    "def d2(S, K, r, s, T):\n",
    "    return d1(S, K, r, s, T) - s * np.sqrt(T)\n",
    "\n",
    "def C(S, K, r, s, T):\n",
    "    return S * N(d1(S, K, r, s, T)) - K * np.exp(-r * T) * N(d2(S, K, r, s, T))\n",
    "def P(S, K, r, s, T):\n",
    "    return K * np.exp(-r * T) * N(-d2(S, K, r, s, T)) - S * N(-d1(S, K, r, s, T))\n",
    "\n",
    "def deltaC(S, K, r, s, T):\n",
    "    return N(d1(S, K, r, s, T))\n",
    "def deltaP(S, K, r, s, T):\n",
    "    return -N(-d1(S, K, r, s, T))\n",
    "\n",
    "def gammaC(S, K, r, s, T):\n",
    "    return Np(d1(S, K, r, s, T)) / (S * s * np.sqrt(T))\n",
    "def gammaP(S, K, r, s, T):\n",
    "    return gammaC(S, K, r, s, T)\n",
    "\n",
    "def thetaC(S, K, r, s, T):\n",
    "    return S * Np(d1(S, K, r, s, T)) * s / (2 * np.sqrt(T)) - r * K * np.exp(-r * T) * Np(d2(S, K, r, s, T))\n",
    "def thetaP(S, K, r, s, T):\n",
    "    return S * Np(d1(S, K, r, s, T)) * s / (2 * np.sqrt(T)) + r * K * np.exp(r * T) * Np(-d2(S, K, r, s, T))\n",
    "\n",
    "def vegaC(S, K, r, s, T):\n",
    "    return S * Np(d1(S, K, r, s, T)) * np.sqrt(T)\n",
    "def vegaP(S, K, r, s, T):\n",
    "    return vegaC(S, K, r, s, T)\n",
    "\n",
    "def rhoC(S, K, r, s, T):\n",
    "    return K * T * np.exp(-r * T) * N(d2(S, K, r, s, T))\n",
    "def rhoP(S, K, r, s, T):\n",
    "    return -K * T * np.exp(-r * T) * N(-d2(S, K, r, s, T))"
   ]
  },
  {
   "cell_type": "code",
   "execution_count": 3,
   "metadata": {
    "collapsed": true
   },
   "outputs": [],
   "source": [
    "#This is a vanilla European Option base class\n",
    "class Euro_Option(object):\n",
    "    def __init__(self, S, K, r, s, T):\n",
    "        self.S = S\n",
    "        self.K = K\n",
    "        self.r = r\n",
    "        self.s = s\n",
    "        self.T = T\n",
    "        \n",
    "    #Calculate d1\n",
    "    def getd1(self):\n",
    "        d1value = (np.log(self.S/self.K) + (self.r + self.s ** 2 / 2) * self.T) / (self.s * np.sqrt(self.T))\n",
    "        return d1value\n",
    "    \n",
    "    #Calculate d2\n",
    "    def getd2(self):\n",
    "        d2value = self.getd1() - self.s * np.sqrt(self.T)\n",
    "        return d2value\n",
    "\n",
    "        \n",
    "# This is a vanilla European call option class derived from base class with attributes and methods to compute value and greeks    \n",
    "class Euro_Call(Euro_Option):\n",
    "    #Initialization\n",
    "    def __init__(self, S, K, r, s, T):\n",
    "        Euro_Option.__init__(self, S, K, r, s, T)\n",
    "    \n",
    "    #Calculate option value based on BS option pricing formula\n",
    "    def value(self):\n",
    "        d1 = self.getd1()\n",
    "        d2 = self.getd2()\n",
    "        value = self.S * norm.cdf(d1, loc=0, scale=1) - self.K * np.exp(-self.r * self.T) * norm.cdf(d2, loc=0, scale=1)\n",
    "        print('This is a call!')\n",
    "        return value\n",
    "    \n",
    "    #Calculate delta based on BS option pricing formula\n",
    "    def delta(self):\n",
    "        d1 = self.getd1()\n",
    "        deltavalue = norm.cdf(d1, loc=0, scale=1)\n",
    "        return deltavalue\n",
    "    \n",
    "    #Calculate gamma based on BS option pricing formula\n",
    "    def gamma(self):\n",
    "        d1 = self.getd1()\n",
    "        gammavalue = norm.pdf(d1, loc=0, scale=1) / (self.S * self.s * np.sqrt(T))\n",
    "        return gammavalue\n",
    "    \n",
    "    #Calculate vega based on BS option pricing formula\n",
    "    def vega(self):\n",
    "        d1 = self.getd1()\n",
    "        vegavalue = self.S * norm.cdf(d1, loc=0, scale=1) * np.sqrt(self.T)\n",
    "        return vegavalue\n",
    "    \n",
    "    #Calculate theta based on BS option pricing formula\n",
    "    def theta(self):\n",
    "        d1 = self.getd1()\n",
    "        d2 = self.getd2()\n",
    "        thetavalue = self.S * norm.pdf(d1, loc=0, scale=1) * self.s / (2 * np.sqrt(T)) - self.r * self.K * np.exp(-self.r * self.T) * norm.pdf(d2, loc=0, scale=1)\n",
    "        return thetavalue\n",
    "\n",
    "    #Calculate rho based on BS option pricing formula\n",
    "    def rho(self):\n",
    "        d2 = self.getd2()\n",
    "        rhovalue = self.K * self.T * np.exp(-self.r * self.T) * norm.cdf(d2, loc=0, scale=1)\n",
    "        return rhovalue\n",
    "   \n"
   ]
  },
  {
   "cell_type": "code",
   "execution_count": 4,
   "metadata": {
    "collapsed": true
   },
   "outputs": [],
   "source": [
    "# This is a vanilla European put option class derived from base class with attributes and methods to compute value and greeks    \n",
    "class Euro_Put(Euro_Option):\n",
    "    #Initialization\n",
    "    def __init__(self, S, K, r, s, T):\n",
    "        Euro_Option.__init__(self, S, K, r, s, T)\n",
    "    \n",
    "    #Calculate option value based on BS option pricing formula\n",
    "    def value(self):\n",
    "        d1 = self.getd1()\n",
    "        d2 = self.getd2()\n",
    "        value = self.K * np.exp(-(self.r) * self.T) * norm.cdf((-d2), loc=0, scale=1) - self.S * norm.cdf((-d1), loc=0, scale=1)\n",
    "        print('This is a Put!')\n",
    "        return value\n",
    "    \n",
    "    #Calculate delta based on BS option pricing formula\n",
    "    def delta(self):\n",
    "        d1 = self.getd1()\n",
    "        deltavalue = -norm.cdf(-d1, loc=0, scale=1)\n",
    "        return deltavalue\n",
    "    \n",
    "    #Calculate gamma based on BS option pricing formula\n",
    "    def gamma(self):\n",
    "        d1 = self.getd1()\n",
    "        gammavalue = norm.pdf(d1, loc=0, scale=1) / (self.S * self.s * np.sqrt(T))\n",
    "        return gammavalue\n",
    "    \n",
    "    #Calculate vega based on BS option pricing formula\n",
    "    def vega(self):\n",
    "        d1 = self.getd1()\n",
    "        vegavalue = self.S * norm.cdf(d1, loc=0, scale=1) * np.sqrt(self.T)\n",
    "        return vegavalue\n",
    "    \n",
    "    #Calculate theta based on BS option pricing formula\n",
    "    def theta(self):\n",
    "        d1 = self.getd1()\n",
    "        d2 = self.getd2()\n",
    "        thetavalue = self.S * norm.pdf(d1, loc=0, scale=1) * self.s / (2 * np.sqrt(T)) + self.r * self.K * np.exp(self.r * self.T) * norm.pdf(-d2, loc=0, scale=1)\n",
    "        return thetavalue\n",
    "\n",
    "    #Calculate rho based on BS option pricing formula\n",
    "    def rho(self):\n",
    "        d2 = self.getd2()\n",
    "        rhovalue = -self.K * self.T * np.exp(-self.r * self.T) * norm.cdf(-d2, loc=0, scale=1)\n",
    "        return rhovalue\n"
   ]
  },
  {
   "cell_type": "code",
   "execution_count": 5,
   "metadata": {},
   "outputs": [
    {
     "name": "stdout",
     "output_type": "stream",
     "text": [
      "This is a Put!\n",
      "value = 0.0979800331386\n",
      "delta = -0.0378190348238\n",
      "gamma = 0.0130171319719\n",
      "vega = 30.4268337122\n",
      "theta = 3.01920127995\n",
      "rho = -0.387988351552\n"
     ]
    }
   ],
   "source": [
    "S, K, r, s, T= 100., 90., 0.05, 0.2, 0.1\n",
    "\n",
    "option0 = Euro_Put(S, K, r, s, T)\n",
    "option0_value = option0.value()\n",
    "option0_delta = option0.delta()\n",
    "option0_gamma = option0.gamma()\n",
    "option0_vega = option0.vega()\n",
    "option0_theta = option0.theta()\n",
    "option0_rho = option0.rho()\n",
    "\n",
    "print('value = ' + str(option0_value))\n",
    "print('delta = ' + str(option0_delta))\n",
    "print('gamma = ' + str(option0_gamma))\n",
    "print('vega = ' + str(option0_vega))\n",
    "print('theta = ' + str(option0_theta))\n",
    "print('rho = ' + str(option0_rho))"
   ]
  },
  {
   "cell_type": "code",
   "execution_count": 7,
   "metadata": {},
   "outputs": [
    {
     "name": "stdout",
     "output_type": "stream",
     "text": [
      "This is a call!\n",
      "value = 10.5468569058\n",
      "delta = 0.962180965176\n",
      "gamma = 0.0130171319719\n",
      "vega = 30.4268337122\n",
      "theta = 2.19178853804\n",
      "rho = 8.56712396118\n"
     ]
    }
   ],
   "source": [
    "S, K, r, s, T= 100., 90., 0.05, 0.2, 0.1\n",
    "\n",
    "option1 = Euro_Call(S, K, r, s, T)\n",
    "option1_value = option1.value()\n",
    "option1_delta = option1.delta()\n",
    "option1_gamma = option1.gamma()\n",
    "option1_vega = option1.vega()\n",
    "option1_theta = option1.theta()\n",
    "option1_rho = option1.rho()\n",
    "\n",
    "print('value = ' + str(option1_value))\n",
    "print('delta = ' + str(option1_delta))\n",
    "print('gamma = ' + str(option1_gamma))\n",
    "print('vega = ' + str(option1_vega))\n",
    "print('theta = ' + str(option1_theta))\n",
    "print('rho = ' + str(option1_rho))"
   ]
  },
  {
   "cell_type": "code",
   "execution_count": 6,
   "metadata": {
    "collapsed": true
   },
   "outputs": [],
   "source": [
    "def forward(S, K, r, s, T):\n",
    "    return -P(S, K, r, s, T) + C(S, K, r, s, T)\n",
    "\n",
    "def straddle(S, K, r, s, T):\n",
    "    return C(S, K, r, s, T) + P(S, K, r, s, T)\n",
    "def straddledelta(S, K, r, s, T):\n",
    "    return deltaC(S, K, r, s, T) + deltaP(S, K, r, s, T)\n",
    "def staddlegamma(S, K, r, s, T):\n",
    "    return gammaC(S, K, r, s, T) + gammaP(S, K ,r ,s, T)\n",
    "def straddlevega(S, K, r, s, T):\n",
    "    return vegaC(S, K, r, s, T) + vegaP(S, K ,r ,s ,T)\n",
    "def straddletheta(S, K, r, s, T):\n",
    "    return thetaC(S, K, r, s, T) + thetaP(S, K, r, s, T)\n",
    "def straddlerho(S, K, r, s ,T):\n",
    "    return rhoC(S, K, r, s, T) + rhoP(S, K, r, s, T)"
   ]
  },
  {
   "cell_type": "code",
   "execution_count": 8,
   "metadata": {
    "scrolled": false
   },
   "outputs": [
    {
     "data": {
      "application/vnd.jupyter.widget-view+json": {
       "model_id": "da09640e08954566b7b1aea0fb9b1a88",
       "version_major": 2,
       "version_minor": 0
      },
      "text/plain": [
       "A Jupyter Widget"
      ]
     },
     "metadata": {},
     "output_type": "display_data"
    }
   ],
   "source": [
    "S = 2550\n",
    "r = 0.015775\n",
    "@interact(K = widgets.FloatSlider(min=2200, max=2700, value=2550), \n",
    "          s = widgets.FloatSlider(min=0, max=100, value=13), \n",
    "          T = widgets.FloatSlider(min=0, max=0.2, value=0.1))\n",
    "\n",
    "def plot_mtm(K, s, T):\n",
    "    S = np.linspace(2200, 2900,100)\n",
    "    plt.plot(S, C(S, K, r, s/100, T))"
   ]
  },
  {
   "cell_type": "code",
   "execution_count": 9,
   "metadata": {},
   "outputs": [
    {
     "data": {
      "application/vnd.jupyter.widget-view+json": {
       "model_id": "25ec792e2051402bb14afec9574cefcd",
       "version_major": 2,
       "version_minor": 0
      },
      "text/plain": [
       "A Jupyter Widget"
      ]
     },
     "metadata": {},
     "output_type": "display_data"
    }
   ],
   "source": [
    "S = 2550\n",
    "r = 0.015775\n",
    "@interact(K = widgets.FloatSlider(min=2200, max=2700, value=2550), \n",
    "          s = widgets.FloatSlider(min=0, max=100, value=13), \n",
    "          T = widgets.FloatSlider(min=0, max=0.2, value=0.1))\n",
    "\n",
    "def plot_mtm(K, s, T):\n",
    "    S = np.linspace(2200, 2900,100)\n",
    "    plt.plot(S, deltaC(S, K, r, s/100, T))"
   ]
  },
  {
   "cell_type": "code",
   "execution_count": 10,
   "metadata": {},
   "outputs": [
    {
     "data": {
      "application/vnd.jupyter.widget-view+json": {
       "model_id": "a83dae651d654783b0f7b3c80bdb142d",
       "version_major": 2,
       "version_minor": 0
      },
      "text/plain": [
       "A Jupyter Widget"
      ]
     },
     "metadata": {},
     "output_type": "display_data"
    }
   ],
   "source": [
    "S = 2550\n",
    "r = 0.015775\n",
    "@interact(K = widgets.FloatSlider(min=2200, max=2700, value=2550), \n",
    "          s = widgets.FloatSlider(min=0, max=100, value=13), \n",
    "          T = widgets.FloatSlider(min=0, max=0.2, value=0.1))\n",
    "\n",
    "def plot_mtm(K, s, T):\n",
    "    S = np.linspace(2200, 2900,100)\n",
    "    plt.plot(S, gammaC(S, K, r, s/100, T))"
   ]
  },
  {
   "cell_type": "code",
   "execution_count": 11,
   "metadata": {},
   "outputs": [
    {
     "data": {
      "application/vnd.jupyter.widget-view+json": {
       "model_id": "c95739a27b2d41f98a7069080d9506e6",
       "version_major": 2,
       "version_minor": 0
      },
      "text/plain": [
       "A Jupyter Widget"
      ]
     },
     "metadata": {},
     "output_type": "display_data"
    }
   ],
   "source": [
    "@interact(K = widgets.FloatSlider(min=2200, max=2700, value=2550), \n",
    "          s = widgets.FloatSlider(min=0, max=100, value=13),\n",
    "          r = widgets.FloatSlider(min=0, max=100, value=0.015),\n",
    "          T = widgets.FloatSlider(min=0, max=0.2, value=0.1))\n",
    "\n",
    "def plot_mtm(K, s, r, T):\n",
    "    plt.figure(figsize=(20,15))\n",
    "    S = np.linspace(2200, 2900,100)\n",
    "    plt.subplot(661)\n",
    "    plt.plot(S, straddle(S, K, r, s/100, T))\n",
    "    plt.title('Straddle value')\n",
    "    \n",
    "    plt.subplot(662)\n",
    "    plt.plot(S, straddledelta(S, K, r, s/100, T))\n",
    "    plt.title('Straddle delta')\n",
    "    \n",
    "    plt.subplot(663)\n",
    "    plt.plot(S, staddlegamma(S, K, r, s/100, T))\n",
    "    plt.title('Straddle gamma')\n",
    "    \n",
    "    plt.subplot(664)\n",
    "    plt.plot(S, straddlevega(S, K, r, s/100, T))\n",
    "    plt.title('Straddle vega')\n",
    "    \n",
    "    plt.subplot(665)\n",
    "    plt.plot(S, straddletheta(S, K, r, s/100, T))\n",
    "    plt.title('Straddle theta')\n",
    "    \n",
    "    plt.subplot(666)\n",
    "    plt.plot(S, straddlerho(S, K, r, s/100, T))\n",
    "    plt.title('Straddle rho')"
   ]
  }
 ],
 "metadata": {
  "kernelspec": {
   "display_name": "Python 3",
   "language": "python",
   "name": "python3"
  },
  "language_info": {
   "codemirror_mode": {
    "name": "ipython",
    "version": 3
   },
   "file_extension": ".py",
   "mimetype": "text/x-python",
   "name": "python",
   "nbconvert_exporter": "python",
   "pygments_lexer": "ipython3",
   "version": "3.6.2"
  }
 },
 "nbformat": 4,
 "nbformat_minor": 2
}
